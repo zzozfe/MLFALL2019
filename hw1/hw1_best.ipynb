{
 "cells": [
  {
   "cell_type": "code",
   "execution_count": 90,
   "metadata": {},
   "outputs": [],
   "source": [
    "import numpy as np\n",
    "import pandas as pd\n",
    "from sklearn import linear_model"
   ]
  },
  {
   "cell_type": "code",
   "execution_count": 91,
   "metadata": {},
   "outputs": [],
   "source": [
    "def dataclean(x):\n",
    "    for i in range(x.shape[1]-2):\n",
    "        x.loc[:,str(i)] = x.loc[:,str(i)].str.replace('#','')\n",
    "        x.loc[:,str(i)] = x.loc[:,str(i)].str.replace('x','')\n",
    "        x.loc[:,str(i)] = x.loc[:,str(i)].str.replace('*','')\n",
    "    x = x.replace({'NR':0})\n",
    "    columns = []\n",
    "    for i in range(x.shape[1]-2):\n",
    "        columns.append(str(i))\n",
    "    x[columns] = x[columns].astype(np.float)\n",
    "    x = x.fillna(0)\n",
    "    return x"
   ]
  },
  {
   "cell_type": "code",
   "execution_count": 92,
   "metadata": {},
   "outputs": [],
   "source": [
    "def splitdata(x):\n",
    "    y = x[x['測項'] == 'PM2.5'].iloc[:,2:]\n",
    "    x = x.drop(['日期','測項'] , axis=1)\n",
    "    y = y.to_numpy()\n",
    "    x = x.to_numpy()\n",
    "    newdata = x[0:18,:]\n",
    "    for i in range(int(x.shape[0]/18-1)):\n",
    "        newdata = np.hstack((newdata,x[18*(i+1):18*(i+2),:]))    \n",
    "    y = y.reshape(-1,1)\n",
    "    train_X = []\n",
    "    for i in range(newdata.shape[1]-9):\n",
    "        train_X.append(newdata[:,i:i+9])\n",
    "    train_X = np.array(train_X)\n",
    "    y = y[9:]\n",
    "    return train_X,y"
   ]
  },
  {
   "cell_type": "code",
   "execution_count": 93,
   "metadata": {},
   "outputs": [],
   "source": [
    "def valid(x, y):\n",
    "    if y <= 2 or y > 100:\n",
    "        return False\n",
    "    if ((x <= 2).sum() + (x > 100).sum()) > 0:\n",
    "        return False\n",
    "    return True\n",
    "def datafilter(x,y):\n",
    "    xx = []\n",
    "    yy = []\n",
    "    for i in range(x.shape[0]):\n",
    "        if valid(x[i][9],y[i]):\n",
    "            xx.append(x[i].reshape(1,-1))\n",
    "            yy.append(y[i])\n",
    "    train_X = np.array(xx)\n",
    "    train_Y = np.array(yy)\n",
    "    train_Y = train_Y.reshape(-1,1)\n",
    "    train_X = train_X.reshape(-1,162)        \n",
    "    return train_X,train_Y       "
   ]
  },
  {
   "cell_type": "code",
   "execution_count": 94,
   "metadata": {},
   "outputs": [],
   "source": [
    "def lse(x,y):\n",
    "    reg = linear_model.Ridge(alpha=0.01)\n",
    "    reg.fit(x,y)\n",
    "    return reg.coef_"
   ]
  },
  {
   "cell_type": "code",
   "execution_count": 95,
   "metadata": {},
   "outputs": [],
   "source": [
    "x1 = pd.read_csv('year1-data.csv')\n",
    "x2 = pd.read_csv('year2-data.csv')\n",
    "data = pd.concat([x1,x2])\n",
    "data = dataclean(data)\n",
    "x, y = splitdata(data)\n",
    "x, y = datafilter(x,y)\n",
    "w = lse(x,y)\n",
    "w = w.reshape(-1,1)"
   ]
  },
  {
   "cell_type": "code",
   "execution_count": 17,
   "metadata": {},
   "outputs": [],
   "source": [
    "def rmse(x,y):\n",
    "    mse = 0\n",
    "    for i in range(len(y)):\n",
    "        mse += (y[i]-x[i])**2\n",
    "        mse = np.sqrt(mse/len(y))\n",
    "    return mse"
   ]
  },
  {
   "cell_type": "code",
   "execution_count": 78,
   "metadata": {},
   "outputs": [
    {
     "data": {
      "text/plain": [
       "array([0.03668108])"
      ]
     },
     "execution_count": 78,
     "metadata": {},
     "output_type": "execute_result"
    }
   ],
   "source": [
    "rmse(np.dot(x,w),y)"
   ]
  },
  {
   "cell_type": "code",
   "execution_count": 96,
   "metadata": {},
   "outputs": [],
   "source": [
    "test = pd.read_csv('testing_data.csv')\n",
    "test = dataclean(test)\n",
    "test = test.drop(['id','測項'],axis=1)\n",
    "test = test.to_numpy()\n",
    "test = test.reshape(-1,162)"
   ]
  },
  {
   "cell_type": "code",
   "execution_count": 97,
   "metadata": {},
   "outputs": [],
   "source": [
    "predict = pd.DataFrame(columns = ['id','value'])\n",
    "ids = []\n",
    "values = []\n",
    "for i in range(500):\n",
    "    ids.append('id_'+ str(i))\n",
    "    values.append(float(np.dot(test,w)[i]))\n",
    "predict['id'] = ids\n",
    "predict['value'] = values  \n",
    "predict.to_csv('HW1_predict_best.csv' , index = False)"
   ]
  },
  {
   "cell_type": "code",
   "execution_count": 98,
   "metadata": {},
   "outputs": [],
   "source": [
    "w_best = pd.DataFrame(w)\n",
    "w_best.to_csv('w_best.csv',index=False)"
   ]
  },
  {
   "cell_type": "code",
   "execution_count": null,
   "metadata": {},
   "outputs": [],
   "source": []
  }
 ],
 "metadata": {
  "kernelspec": {
   "display_name": "Python 3",
   "language": "python",
   "name": "python3"
  },
  "language_info": {
   "codemirror_mode": {
    "name": "ipython",
    "version": 3
   },
   "file_extension": ".py",
   "mimetype": "text/x-python",
   "name": "python",
   "nbconvert_exporter": "python",
   "pygments_lexer": "ipython3",
   "version": "3.7.3"
  }
 },
 "nbformat": 4,
 "nbformat_minor": 2
}
