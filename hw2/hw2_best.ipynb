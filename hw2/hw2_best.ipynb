{
 "cells": [
  {
   "cell_type": "code",
   "execution_count": 11,
   "metadata": {},
   "outputs": [],
   "source": [
    "import numpy as np\n",
    "import pandas as pd"
   ]
  },
  {
   "cell_type": "code",
   "execution_count": 47,
   "metadata": {},
   "outputs": [],
   "source": [
    "train_X = pd.read_csv('X_train')\n",
    "train_Y = pd.read_csv('Y_train',header = -1)\n",
    "test_X = pd.read_csv('X_test')\n",
    "train_X['fnlwgt'] = train_X['fnlwgt'].clip(0,800000)\n",
    "test_X['fnlwgt'] = test_X['fnlwgt'].clip(0,800000)"
   ]
  },
  {
   "cell_type": "code",
   "execution_count": 37,
   "metadata": {},
   "outputs": [],
   "source": [
    "def stander(x):\n",
    "    for c in x.columns:\n",
    "        mean = x[c].mean()\n",
    "        std = x[c].std()\n",
    "        if x[c].nunique() != 2:\n",
    "            if std != 0 :\n",
    "                x[c] = x[c].map(lambda x : (x-mean)/std)\n",
    "    return x    "
   ]
  },
  {
   "cell_type": "code",
   "execution_count": 48,
   "metadata": {},
   "outputs": [],
   "source": [
    "conx = pd.concat((train_X, test_X))\n",
    "def pro(x):\n",
    "    if x > 0 :\n",
    "        x = 1\n",
    "    else:\n",
    "        x = 0\n",
    "    return x    \n",
    "conx['capital_gain'] = conx['capital_gain'].map(pro)\n",
    "conx['capital_loss'] = conx['capital_loss'].map(pro)\n",
    "conx = stander(conx)\n",
    "train_X = conx.iloc[0:train_X.shape[0],:]\n",
    "test_X = conx.iloc[train_X.shape[0]::,:]"
   ]
  },
  {
   "cell_type": "code",
   "execution_count": 49,
   "metadata": {},
   "outputs": [
    {
     "name": "stderr",
     "output_type": "stream",
     "text": [
      "C:\\Users\\wangyan\\Anaconda3\\lib\\site-packages\\sklearn\\utils\\validation.py:761: DataConversionWarning: A column-vector y was passed when a 1d array was expected. Please change the shape of y to (n_samples, ), for example using ravel().\n",
      "  y = column_or_1d(y, warn=True)\n"
     ]
    }
   ],
   "source": [
    "from sklearn.ensemble import GradientBoostingClassifier\n",
    "gbc = GradientBoostingClassifier()\n",
    "gbc.fit(train_X,train_Y)\n",
    "pred3 = gbc.predict(test_X)"
   ]
  },
  {
   "cell_type": "code",
   "execution_count": 53,
   "metadata": {},
   "outputs": [],
   "source": [
    "predict = pd.DataFrame()\n",
    "ids = []\n",
    "values = []\n",
    "for i in range(test_X.shape[0]):\n",
    "    ids.append(i+1)\n",
    "    values.append(pred2[i])\n",
    "predict['id'] = ids\n",
    "predict['label'] = values"
   ]
  },
  {
   "cell_type": "code",
   "execution_count": 54,
   "metadata": {},
   "outputs": [],
   "source": [
    "predict.to_csv('testgbc.csv',index=False)"
   ]
  }
 ],
 "metadata": {
  "kernelspec": {
   "display_name": "Python 3",
   "language": "python",
   "name": "python3"
  },
  "language_info": {
   "codemirror_mode": {
    "name": "ipython",
    "version": 3
   },
   "file_extension": ".py",
   "mimetype": "text/x-python",
   "name": "python",
   "nbconvert_exporter": "python",
   "pygments_lexer": "ipython3",
   "version": "3.7.3"
  }
 },
 "nbformat": 4,
 "nbformat_minor": 2
}
