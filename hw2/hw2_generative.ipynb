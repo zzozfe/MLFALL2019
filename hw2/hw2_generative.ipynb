{
 "cells": [
  {
   "cell_type": "code",
   "execution_count": 1,
   "metadata": {},
   "outputs": [],
   "source": [
    "import numpy as np\n",
    "import pandas as pd\n",
    "import sys"
   ]
  },
  {
   "cell_type": "code",
   "execution_count": 86,
   "metadata": {},
   "outputs": [],
   "source": [
    "train_X = pd.read_csv('X_train')\n",
    "train_Y = pd.read_csv('Y_train',header = -1)\n",
    "test_X = pd.read_csv('X_test')\n",
    "train_X['fnlwgt'] = train_X['fnlwgt'].clip(0,800000)\n",
    "test_X['fnlwgt'] = test_X['fnlwgt'].clip(0,800000)"
   ]
  },
  {
   "cell_type": "code",
   "execution_count": 5,
   "metadata": {},
   "outputs": [],
   "source": [
    "def stander(x):\n",
    "    for c in x.columns:\n",
    "        mean = x[c].mean()\n",
    "        std = x[c].std()\n",
    "        if std != 0 :\n",
    "            x[c] = x[c].map(lambda x : (x-mean)/std)\n",
    "    return x    "
   ]
  },
  {
   "cell_type": "code",
   "execution_count": 87,
   "metadata": {},
   "outputs": [],
   "source": [
    "conx = pd.concat((train_X, test_X))\n",
    "def pro(x):\n",
    "    if x > 0 :\n",
    "        x = 1\n",
    "    else:\n",
    "        x = 0\n",
    "    return x    \n",
    "conx['capital_gain'] = conx['capital_gain'].map(pro)\n",
    "conx['capital_loss'] = conx['capital_loss'].map(pro)\n",
    "conx = stander(conx)\n",
    "train_X = conx.iloc[0:train_X.shape[0],:]\n",
    "test_X = conx.iloc[train_X.shape[0]::,:]"
   ]
  },
  {
   "cell_type": "code",
   "execution_count": 43,
   "metadata": {},
   "outputs": [],
   "source": [
    "def normalval(x,mu,cov):\n",
    "    cov_inv = pd.DataFrame(np.linalg.pinv(cov.values), cov.columns)\n",
    "    vl = np.sqrt(((2*np.pi) ** x.shape[0]) * abs(np.linalg.det(cov)))\n",
    "    vr1 = np.dot((x - mu), cov_inv)\n",
    "    vr2 = (x - mu).to_numpy()  \n",
    "    vr =  np.exp(-0.5*np.dot(vr1, vr2)) \n",
    "    value = vr*vl\n",
    "    return value                                                              "
   ]
  },
  {
   "cell_type": "code",
   "execution_count": 31,
   "metadata": {},
   "outputs": [],
   "source": [
    "def pgm(x,y):\n",
    "    x['pred'] = y.values\n",
    "    pc0 = (y == 0).sum()[0]/y.shape[0]\n",
    "    pc1 = 1-pc0\n",
    "    mu0 = x[x['pred'] == 0].mean()\n",
    "    mu0 = mu0.drop(['pred'])\n",
    "    mu1 = x[x['pred'] == 1].mean()\n",
    "    mu1 = mu1.drop(['pred'])\n",
    "    std0 = x[x['pred'] == 0].std()\n",
    "    std0 = std0.drop(['pred'])\n",
    "    std1 = x[x['pred'] == 1].std()\n",
    "    std1 = std1.drop(['pred']) \n",
    "    cov0 = x[x['pred'] == 0].cov().drop(['pred'],axis=1).drop(['pred'])\n",
    "    cov1 = x[x['pred'] == 1].cov().drop(['pred'],axis=1).drop(['pred'])\n",
    "    cov = (cov0*x[x['pred']==0].shape[0] + cov1*x[x['pred']==1].shape[0])/(x.shape[0])\n",
    "\n",
    "    cov_inv = np.linalg.pinv(cov.values)\n",
    "    w = np.dot(mu0-mu1, cov_inv)\n",
    "    b = -0.5*np.dot(np.dot(mu0, cov_inv), mu0) +0.5*np.dot(np.dot(mu1, cov_inv), mu1) + np.log(x[x['pred']==0].shape[0]/x[x['pred']==1].shape[0])\n",
    "    return w,b"
   ]
  },
  {
   "cell_type": "code",
   "execution_count": 89,
   "metadata": {},
   "outputs": [
    {
     "name": "stdout",
     "output_type": "stream",
     "text": [
      "0.35426855087280273\n"
     ]
    }
   ],
   "source": [
    "import time\n",
    "start = time.time()\n",
    "w,b = pgm(train_X,train_Y)\n",
    "print(time.time() - start)"
   ]
  },
  {
   "cell_type": "code",
   "execution_count": 90,
   "metadata": {},
   "outputs": [],
   "source": [
    "predict = pd.DataFrame()\n",
    "ids = []\n",
    "values = []\n",
    "z = np.dot(test_X, w) + b\n",
    "pc0x = 1/(1 + np.exp(-z))\n",
    "for i in range(len(pc0x)):\n",
    "    ids.append(i+1)\n",
    "    if pc0x[i] > 0.5:\n",
    "        values.append(0)\n",
    "    else:\n",
    "        values.append(1)\n",
    "predict['id'] = ids\n",
    "predict['label'] = values"
   ]
  },
  {
   "cell_type": "code",
   "execution_count": 91,
   "metadata": {},
   "outputs": [],
   "source": [
    "predict.to_csv('test2.csv',index=False)"
   ]
  },
  {
   "cell_type": "code",
   "execution_count": null,
   "metadata": {},
   "outputs": [],
   "source": []
  }
 ],
 "metadata": {
  "kernelspec": {
   "display_name": "Python 3",
   "language": "python",
   "name": "python3"
  },
  "language_info": {
   "codemirror_mode": {
    "name": "ipython",
    "version": 3
   },
   "file_extension": ".py",
   "mimetype": "text/x-python",
   "name": "python",
   "nbconvert_exporter": "python",
   "pygments_lexer": "ipython3",
   "version": "3.7.3"
  }
 },
 "nbformat": 4,
 "nbformat_minor": 2
}
