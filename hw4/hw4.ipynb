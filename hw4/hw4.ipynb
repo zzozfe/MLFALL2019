{
 "cells": [
  {
   "cell_type": "code",
   "execution_count": 1,
   "metadata": {},
   "outputs": [],
   "source": [
    "from PIL import Image\n",
    "import numpy as np\n",
    "import pandas as pd\n",
    "import os\n",
    "import random\n",
    "import torch\n",
    "import torch.nn as nn\n",
    "from torch.optim import Adam\n",
    "from torchvision import transforms\n",
    "from torch.utils.data import DataLoader, Dataset\n",
    "from sklearn import manifold\n",
    "from sklearn.cluster import KMeans"
   ]
  },
  {
   "cell_type": "code",
   "execution_count": 3,
   "metadata": {},
   "outputs": [],
   "source": [
    "def load_data(path):\n",
    "    path = './data/' + path\n",
    "    x = np.load(path)\n",
    "    x = (x / 255.0)*2-1\n",
    "    return x   \n",
    "\n",
    "class hw4_dataset(Dataset):\n",
    "    \n",
    "    def __init__(self, data, transform):\n",
    "        self.data = data\n",
    "        self.transform = transform\n",
    "\n",
    "    def __len__(self):\n",
    "        return len(self.data)\n",
    "\n",
    "    def __getitem__(self, idx):\n",
    "        img = self.data[idx]\n",
    "        img = self.transform(img)\n",
    "        label = idx\n",
    "        return img, label\n",
    "    def __getimg__(self, idx):\n",
    "        img = self.__getitem__(idx)[0]\n",
    "        img = img.numpy().T\n",
    "        img = ((img+1)/2)*255\n",
    "        img = img.astype(np.uint8) \n",
    "        return Image.fromarray(img)   \n",
    "    \n",
    "class autoencoder(nn.Module):\n",
    "    def __init__(self):\n",
    "        super(autoencoder, self).__init__()\n",
    "        self.encoder = nn.Sequential(                    #input (3,32,32)\n",
    "            nn.Conv2d(3, 64, 5, stride=2, padding=1),   #(8,16,16)   \n",
    "            nn.LeakyReLU(0.5),                     \n",
    "            nn.BatchNorm2d(64),\n",
    "            nn.Conv2d(64, 128, 3, stride=2, padding=1),  #(16,8,8)\n",
    "            nn.LeakyReLU(0.5),  \n",
    "            nn.BatchNorm2d(128),\n",
    "            nn.Conv2d(128, 256, 3,2,1),                   #(32,4,4)\n",
    "            nn.LeakyReLU(0.5),\n",
    "            nn.BatchNorm2d(256),    \n",
    "        )\n",
    "        self.fc1 = nn.Linear(256*4*4,32)\n",
    "        self.fc2 = nn.Linear(32,256*4*4)\n",
    "\n",
    "        self.decoder = nn.Sequential(                    #input(32,2,2)\n",
    "            nn.ConvTranspose2d(256, 128, 4, 2, 1),          #(32,8,8)\n",
    "            nn.LeakyReLU(0.5),\n",
    "            nn.ConvTranspose2d(128, 64, 4, 2, 1),         #output(16,8,8)\n",
    "            nn.LeakyReLU(0.5),\n",
    "            nn.ConvTranspose2d(64, 3, 4, 2, 1),\n",
    "            nn.Tanh(),\n",
    "        )\n",
    "\n",
    "    def forward(self, x):\n",
    "        xe = self.encoder(x)\n",
    "        xe = xe.view(len(xe),-1)\n",
    "        xe = self.fc1(xe)\n",
    "        xd = self.decoder(self.fc2(xe).view(-1,256,4,4))\n",
    "        return xe, xd"
   ]
  },
  {
   "cell_type": "code",
   "execution_count": null,
   "metadata": {},
   "outputs": [],
   "source": [
    "train_X = load_data('trainX.npy')\n",
    "transform = transforms.Compose([transforms.ToTensor()])\n",
    "train_dataset = hw4_dataset(train_X, transform)\n",
    "train_loader = DataLoader(train_dataset, batch_size= 32, shuffle=True)\n",
    "\n",
    "model = autoencoder()\n",
    "model.double()\n",
    "model = model.cuda()\n",
    "optimizer = Adam(model.parameters(), lr=0.001, weight_decay=0.001) \n",
    "loss_fn = nn.MSELoss()\n",
    "\n",
    "\n",
    "num_epoch = 10\n",
    "\n",
    "for epoch in range(num_epoch):\n",
    "    for (img, ldx) in train_loader:\n",
    "        img = img.cuda()\n",
    "        optimizer.zero_grad()\n",
    "        _, output = model(img)\n",
    "        loss = loss_fn(output, img)\n",
    "        loss.backward()\n",
    "        optimizer.step()\n",
    "    print('epoch [{}/{}], loss:{:.4f}'.format(epoch+1, num_epoch, loss.item()))"
   ]
  },
  {
   "cell_type": "code",
   "execution_count": 13,
   "metadata": {},
   "outputs": [],
   "source": [
    "def latent(x):\n",
    "    x = x.cpu().detach().numpy()\n",
    "    return x"
   ]
  },
  {
   "cell_type": "code",
   "execution_count": 14,
   "metadata": {},
   "outputs": [],
   "source": [
    "test_loader = DataLoader(train_dataset, batch_size = 32)\n",
    "predict = []\n",
    "latentss = []\n",
    "outputs = []\n",
    "for img,_ in test_loader:\n",
    "    img = img.cuda()\n",
    "    encoder, output = model(img)\n",
    "    outputs.append(latent(output))\n",
    "    latentss.append(latent(encoder))\n",
    "    predict += torch.max(output, 1)[1].tolist()\n",
    "latentss = np.concatenate(latentss, axis=0)\n",
    "latents = latentss  \n",
    "latents_mean = np.mean(latents, axis=1).reshape(9000,-1)\n",
    "latents_std = np.std(latents, axis=1).reshape(9000,-1)\n",
    "latents = (latents - latents_mean)/latents_std"
   ]
  },
  {
   "cell_type": "code",
   "execution_count": 16,
   "metadata": {},
   "outputs": [],
   "source": [
    "tsne = manifold.TSNE()\n",
    "tsne_x = tsne.fit_transform(latents)\n",
    "result_tsne = KMeans(n_clusters=2).fit(tsne_x).labels_"
   ]
  },
  {
   "cell_type": "code",
   "execution_count": null,
   "metadata": {},
   "outputs": [],
   "source": []
  }
 ],
 "metadata": {
  "kernelspec": {
   "display_name": "Python 3",
   "language": "python",
   "name": "python3"
  },
  "language_info": {
   "codemirror_mode": {
    "name": "ipython",
    "version": 3
   },
   "file_extension": ".py",
   "mimetype": "text/x-python",
   "name": "python",
   "nbconvert_exporter": "python",
   "pygments_lexer": "ipython3",
   "version": "3.7.3"
  }
 },
 "nbformat": 4,
 "nbformat_minor": 2
}
